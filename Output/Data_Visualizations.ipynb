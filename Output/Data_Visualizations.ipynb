{
 "cells": [
  {
   "cell_type": "code",
   "execution_count": 1,
   "id": "76797b29-6d03-48cd-9881-e35965f63b70",
   "metadata": {},
   "outputs": [
    {
     "name": "stdout",
     "output_type": "stream",
     "text": [
      "                       Run   R   W        CS\n",
      "0  vlat_llava7b_run_01.csv  14  39  1.000000\n",
      "1  vlat_llava7b_run_02.csv  16  37  3.666667\n",
      "2  vlat_llava7b_run_03.csv  19  34  7.666667\n",
      "Mean Corrected Score: 4.11\n",
      "Standard Deviation: 3.36\n"
     ]
    }
   ],
   "source": [
    "import os\n",
    "import pandas as pd\n",
    "import numpy as np\n",
    "\n",
    "# 1. Set paths and parameters\n",
    "data_dir = \"C:/Users/Melita/CSE 4001/VLM-Eval-Research/Output/VLAT/Llava7b_Eval/Random\"\n",
    "C = 4  # number of choices per question\n",
    "\n",
    "# 2. Gather all CSVs\n",
    "csv_files = [f for f in os.listdir(data_dir) if f.endswith(\".csv\")]\n",
    "\n",
    "results = []\n",
    "\n",
    "for file in csv_files:\n",
    "    df = pd.read_csv(os.path.join(data_dir, file))\n",
    "    \n",
    "    # 3. Calculate R and W\n",
    "    R = sum(df['model_answer'] == df['correct_answer'])\n",
    "    W = sum(df['model_answer'] != df['correct_answer'])\n",
    "    \n",
    "    # 4. Corrected score\n",
    "    CS = R - (W / (C - 1))\n",
    "    \n",
    "    results.append({'Run': file, 'R': R, 'W': W, 'CS': CS})\n",
    "\n",
    "# 5. Combine results into a summary DataFrame\n",
    "results_df = pd.DataFrame(results)\n",
    "mean_CS = results_df['CS'].mean()\n",
    "std_CS = results_df['CS'].std()\n",
    "\n",
    "print(results_df)\n",
    "print(f\"Mean Corrected Score: {mean_CS:.2f}\")\n",
    "print(f\"Standard Deviation: {std_CS:.2f}\")"
   ]
  }
 ],
 "metadata": {
  "kernelspec": {
   "display_name": "Python 3 (ipykernel)",
   "language": "python",
   "name": "python3"
  },
  "language_info": {
   "codemirror_mode": {
    "name": "ipython",
    "version": 3
   },
   "file_extension": ".py",
   "mimetype": "text/x-python",
   "name": "python",
   "nbconvert_exporter": "python",
   "pygments_lexer": "ipython3",
   "version": "3.12.4"
  }
 },
 "nbformat": 4,
 "nbformat_minor": 5
}
